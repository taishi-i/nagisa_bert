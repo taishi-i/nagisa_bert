{
  "cells": [
    {
      "cell_type": "markdown",
      "metadata": {
        "id": "view-in-github",
        "colab_type": "text"
      },
      "source": [
        "<a href=\"https://colab.research.google.com/github/taishi-i/nagisa_bert/blob/develop/notebooks/fill_mask-japanese_bert_models.ipynb\" target=\"_parent\"><img src=\"https://colab.research.google.com/assets/colab-badge.svg\" alt=\"Open In Colab\"/></a>"
      ]
    },
    {
      "cell_type": "markdown",
      "metadata": {
        "id": "-K1_DWJXfD7n"
      },
      "source": [
        "# TransformersPipeline によるマスク言語モデル 🤗 \n",
        "\n",
        "このノートブックでは、Transformers の Pipeline 関数を利用して、テキストの穴埋めを実行します。\n",
        "\n",
        "テキスト中の[MASK]を、文脈から予測することができます。"
      ]
    },
    {
      "cell_type": "markdown",
      "metadata": {
        "id": "hsFWPkyJg1Qv"
      },
      "source": [
        "## ライブラリのインストール"
      ]
    },
    {
      "cell_type": "code",
      "execution_count": null,
      "metadata": {
        "id": "7EGyCSiigz9E"
      },
      "outputs": [],
      "source": [
        "!pip install datasets\n",
        "!pip install nagisa_bert # taishi-i/nagisa_bert\n",
        "!pip install fugashi\n",
        "!pip install ipadic # cl-tohoku/bert-base-japanese-whole-word-masking\n",
        "!pip install unidic-lite # cl-tohoku/bert-base-japanese-v2"
      ]
    },
    {
      "cell_type": "markdown",
      "metadata": {
        "id": "BG6mYda6hqw_"
      },
      "source": [
        "## ライブラリのインポート"
      ]
    },
    {
      "cell_type": "code",
      "execution_count": null,
      "metadata": {
        "id": "wMUpTBp2hsxN"
      },
      "outputs": [],
      "source": [
        "from transformers import pipeline\n",
        "from nagisa_bert import NagisaBertTokenizer\n",
        "from transformers import BertJapaneseTokenizer"
      ]
    },
    {
      "cell_type": "markdown",
      "metadata": {
        "id": "oOXtQA94h86Q"
      },
      "source": [
        "## 利用する言語モデル（BERTモデルの種類）の指定"
      ]
    },
    {
      "cell_type": "code",
      "execution_count": null,
      "metadata": {
        "id": "io8lsqNoiAAC"
      },
      "outputs": [],
      "source": [
        "model_name = \"taishi-i/nagisa_bert\"\n",
        "# model_name = \"cl-tohoku/bert-base-japanese-whole-word-masking\"\n",
        "# model_name = \"cl-tohoku/bert-base-japanese-v2\"\n",
        "\n",
        "if model_name == \"taishi-i/nagisa_bert\":\n",
        "    tokenizer = NagisaBertTokenizer.from_pretrained(model_name)\n",
        "else:\n",
        "    tokenizer = BertJapaneseTokenizer.from_pretrained(model_name)"
      ]
    },
    {
      "cell_type": "markdown",
      "metadata": {
        "id": "lMykVH5WiFhX"
      },
      "source": [
        "## マスク言語モデルの動作確認"
      ]
    },
    {
      "cell_type": "code",
      "execution_count": null,
      "metadata": {
        "id": "Uku9XHJ4iM_A"
      },
      "outputs": [],
      "source": [
        "fill_mask = pipeline(\"fill-mask\", model=model_name, tokenizer=tokenizer)"
      ]
    },
    {
      "cell_type": "code",
      "execution_count": null,
      "metadata": {
        "id": "2cebN-D_iUqI"
      },
      "outputs": [],
      "source": [
        "text = \"nagisaで[MASK]できるモデルです\"\n",
        "print(fill_mask(text))\n",
        "# [{'score': 0.1385931372642517, 'token': 8092, 'token_str': '使 用', 'sequence': 'nagisa で 使用 できる モデル です'}, {'score': 0.11947669088840485, 'token': 8252, 'token_str': '利 用', 'sequence': 'nagisa で 利用 できる モデル です'}, {'score': 0.04910655692219734, 'token': 9559, 'token_str': '作 成', 'sequence': 'nagisa で 作成 できる モデル です'}, {'score': 0.03792576864361763, 'token': 9430, 'token_str': '購 入', 'sequence': 'nagisa で 購入 できる モデル です'}, {'score': 0.026893319562077522, 'token': 11273, 'token_str': '入 手', 'sequence': 'nagisa で 入手 できる モデル です'}]"
      ]
    },
    {
      "cell_type": "code",
      "execution_count": null,
      "metadata": {
        "id": "tCUkqfidj-w_"
      },
      "outputs": [],
      "source": [
        "text = \"大学では自然言語処理の[MASK]をしています。\"\n",
        "print(fill_mask(text))\n",
        "# [{'score': 0.25847551226615906, 'token': 8110, 'token_str': '研 究', 'sequence': '大学 で は 自然 言語 処理 の 研究 を し て い ます 。'}, {'score': 0.22482648491859436, 'token': 12688, 'token_str': '勉 強', 'sequence': '大学 で は 自然 言語 処理 の 勉強 を し て い ます 。'}, {'score': 0.11745239794254303, 'token': 8471, 'token_str': '教 授', 'sequence': '大学 で は 自然 言語 処理 の 教授 を し て い ます 。'}, {'score': 0.11419476568698883, 'token': 10538, 'token_str': '講 師', 'sequence': '大学 で は 自然 言語 処理 の 講師 を し て い ます 。'}, {'score': 0.05345834791660309, 'token': 14534, 'token_str': '講 義', 'sequence': '大学 で は 自然 言語 処理 の 講義 を し て い ます 。'}]"
      ]
    }
  ],
  "metadata": {
    "colab": {
      "collapsed_sections": [
        "-K1_DWJXfD7n",
        "hsFWPkyJg1Qv",
        "BG6mYda6hqw_",
        "oOXtQA94h86Q",
        "lMykVH5WiFhX"
      ],
      "provenance": [],
      "include_colab_link": true
    },
    "kernelspec": {
      "display_name": "Python 3 (ipykernel)",
      "language": "python",
      "name": "python3"
    },
    "language_info": {
      "codemirror_mode": {
        "name": "ipython",
        "version": 3
      },
      "file_extension": ".py",
      "mimetype": "text/x-python",
      "name": "python",
      "nbconvert_exporter": "python",
      "pygments_lexer": "ipython3",
      "version": "3.8.5"
    }
  },
  "nbformat": 4,
  "nbformat_minor": 0
}