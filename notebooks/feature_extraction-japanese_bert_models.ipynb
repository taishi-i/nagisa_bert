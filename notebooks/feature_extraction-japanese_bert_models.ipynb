{
  "cells": [
    {
      "cell_type": "markdown",
      "metadata": {
        "id": "view-in-github",
        "colab_type": "text"
      },
      "source": [
        "<a href=\"https://colab.research.google.com/github/taishi-i/nagisa_bert/blob/develop/notebooks/feature_extraction-japanese_bert_models.ipynb\" target=\"_parent\"><img src=\"https://colab.research.google.com/assets/colab-badge.svg\" alt=\"Open In Colab\"/></a>"
      ]
    },
    {
      "cell_type": "markdown",
      "metadata": {
        "id": "OFb4EcVthXi6"
      },
      "source": [
        "# Transformers Pipeline による特徴量抽出 🤗\n",
        "\n",
        "このノートブックでは、Transformers の Pipeline 関数を利用して、テキストの特徴量抽出を行います。\n",
        "\n",
        "Pipeline 関数を利用することで、入力テキストの各トークンをベクトル化することができます。"
      ]
    },
    {
      "cell_type": "markdown",
      "metadata": {
        "id": "aKoWbgqFdD0G"
      },
      "source": [
        "## ライブラリのインストール"
      ]
    },
    {
      "cell_type": "code",
      "execution_count": null,
      "metadata": {
        "id": "XlyrG7sYdAb2"
      },
      "outputs": [],
      "source": [
        "!pip install datasets\n",
        "!pip install nagisa_bert # taishi-i/nagisa_bert\n",
        "!pip install fugashi\n",
        "!pip install ipadic # cl-tohoku/bert-base-japanese-whole-word-masking\n",
        "!pip install unidic-lite # cl-tohoku/bert-base-japanese-v2"
      ]
    },
    {
      "cell_type": "markdown",
      "metadata": {
        "id": "zOFhPU_kddYu"
      },
      "source": [
        "## ライブラリのインポート"
      ]
    },
    {
      "cell_type": "code",
      "execution_count": null,
      "metadata": {
        "id": "khx2EvWKdDSS"
      },
      "outputs": [],
      "source": [
        "from transformers import pipeline\n",
        "from nagisa_bert import NagisaBertTokenizer\n",
        "from transformers import BertJapaneseTokenizer"
      ]
    },
    {
      "cell_type": "markdown",
      "metadata": {
        "id": "l84ads-qdiPM"
      },
      "source": [
        "## 利用する言語モデル（BERTモデルの種類）の指定"
      ]
    },
    {
      "cell_type": "code",
      "execution_count": null,
      "metadata": {
        "id": "PjDofWLtdhxU"
      },
      "outputs": [],
      "source": [
        "model_name = \"taishi-i/nagisa_bert\"\n",
        "# model_name = \"cl-tohoku/bert-base-japanese-whole-word-masking\"\n",
        "# model_name = \"cl-tohoku/bert-base-japanese-v2\"\n",
        "\n",
        "if model_name == \"taishi-i/nagisa_bert\":\n",
        "    tokenizer = NagisaBertTokenizer.from_pretrained(model_name)\n",
        "else:\n",
        "    tokenizer = BertJapaneseTokenizer.from_pretrained(model_name)"
      ]
    },
    {
      "cell_type": "markdown",
      "metadata": {
        "id": "NbWczHCdlSG3"
      },
      "source": [
        "## 特徴量抽出の動作確認"
      ]
    },
    {
      "cell_type": "code",
      "execution_count": null,
      "metadata": {
        "id": "Lij9Lx5rdk-F"
      },
      "outputs": [],
      "source": [
        "from transformers import pipeline\n",
        "\n",
        "feature_extract = pipeline(\"feature-extraction\", model=model_name, tokenizer=tokenizer)"
      ]
    },
    {
      "cell_type": "code",
      "execution_count": null,
      "metadata": {
        "id": "ly4QOXJEjKj6"
      },
      "outputs": [],
      "source": [
        "from transformers.pipelines import feature_extraction\n",
        "\n",
        "text = \"nagisaで使用できるモデルです\"\n",
        "\n",
        "tokens = tokenizer.tokenize(text)\n",
        "print(tokens)\n",
        "\n",
        "h = feature_extract(text)\n",
        "print(h)"
      ]
    }
  ],
  "metadata": {
    "colab": {
      "collapsed_sections": [],
      "provenance": [],
      "include_colab_link": true
    },
    "kernelspec": {
      "display_name": "Python 3 (ipykernel)",
      "language": "python",
      "name": "python3"
    },
    "language_info": {
      "codemirror_mode": {
        "name": "ipython",
        "version": 3
      },
      "file_extension": ".py",
      "mimetype": "text/x-python",
      "name": "python",
      "nbconvert_exporter": "python",
      "pygments_lexer": "ipython3",
      "version": "3.8.5"
    }
  },
  "nbformat": 4,
  "nbformat_minor": 0
}